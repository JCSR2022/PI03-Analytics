{
 "cells": [
  {
   "cell_type": "code",
   "execution_count": null,
   "metadata": {},
   "outputs": [],
   "source": [
    "#Funcion para display % de ejecucion\n",
    "from IPython.display import clear_output\n",
    "JHO = 0\n",
    "JHO_max = dataframe.shape[0]\n",
    "for i in range(dataframe.shape[0]):\n",
    "    JHO = JHO + 1\n",
    "    clear_output(wait=True)\n",
    "    print('Completado: ' + str(round(JHO / JHO_max * 100, 2)) + '%')"
   ]
  }
 ],
 "metadata": {
  "kernelspec": {
   "display_name": "Python 3.9.8 ('Env_JHO_221107': venv)",
   "language": "python",
   "name": "python3"
  },
  "language_info": {
   "name": "python",
   "version": "3.9.8"
  },
  "orig_nbformat": 4,
  "vscode": {
   "interpreter": {
    "hash": "f0dbf929cb1e53c49caf701bb79d125f785c0a0bd568e1fea637c0e48c21c7bd"
   }
  }
 },
 "nbformat": 4,
 "nbformat_minor": 2
}
