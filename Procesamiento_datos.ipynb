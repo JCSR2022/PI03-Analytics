{
 "cells": [
  {
   "cell_type": "markdown",
   "metadata": {},
   "source": [
    "#Otros datos:\n",
    "https://www.epdata.es/datos/accidente-avion-datos-estadisticas/205?accion=2\n",
    "muertos_en_accidente_de_avion_desde_1942.csv\n",
    "numero_de_accidentes_aereos_desde_1942.csv\n",
    "\n",
    "\n",
    "https://aviation-safety.net/database/\n",
    "\n",
    "\n",
    "#Paises y ciudades\n",
    "https://www.forosdelweb.com/f86/base-datos-paises-estados-ciudades-del-mundo-1157860/\n",
    "https://docs.google.com/spreadsheets/d/1x-t5GdfxbeuO5GtfnX4BYbTC6XBRI8HgxUfHIclR8bw/edit#gid=565147435\n",
    "\n",
    "#info geopy\n",
    "#https://www.europeanvalley.es/noticias/geolocalizacion-y-mapas-con-python/"
   ]
  },
  {
   "cell_type": "code",
   "execution_count": null,
   "metadata": {},
   "outputs": [],
   "source": [
    "#https://www.europeanvalley.es/noticias/geolocalizacion-y-mapas-con-python/"
   ]
  },
  {
   "cell_type": "code",
   "execution_count": 1,
   "metadata": {},
   "outputs": [],
   "source": [
    "import pandas as pd \n",
    "from pandasgui import show\n",
    "import re\n",
    "from sklearn import preprocessing\n",
    "from geopy.geocoders import Nominatim"
   ]
  },
  {
   "cell_type": "code",
   "execution_count": 2,
   "metadata": {},
   "outputs": [],
   "source": [
    "df = pd.read_csv('AccidentesAviones.csv')"
   ]
  },
  {
   "cell_type": "code",
   "execution_count": 3,
   "metadata": {},
   "outputs": [
    {
     "name": "stderr",
     "output_type": "stream",
     "text": [
      "PandasGUI INFO — pandasgui.gui — Opening PandasGUI\n"
     ]
    },
    {
     "data": {
      "text/plain": [
       "<pandasgui.gui.PandasGui at 0x73ad17ec10>"
      ]
     },
     "execution_count": 3,
     "metadata": {},
     "output_type": "execute_result"
    }
   ],
   "source": [
    "#df.info()\n",
    "show(df)"
   ]
  },
  {
   "cell_type": "code",
   "execution_count": 3,
   "metadata": {},
   "outputs": [],
   "source": [
    "# 1.Se verifica 'Unnamed: 0', se borra ya que podemos usar el mismo indice del df\n",
    "if 'Unnamed: 0' in df.columns:\n",
    "    df.drop(columns=['Unnamed: 0'],inplace=True)\n",
    "    \n",
    "#df['Unnamed: 0'] = df['Unnamed: 0'].astype('Int32')\n",
    "#len(df['Unnamed: 0'].unique())"
   ]
  },
  {
   "cell_type": "code",
   "execution_count": 4,
   "metadata": {},
   "outputs": [],
   "source": [
    "# 2. Se tranforma la columna fechas y HORA declarada\n",
    "# Se corrigen las horas\n",
    "#from time import  strftime\n",
    "\n",
    "def convertir_dig_en_hora(elem):\n",
    "    # Se verifica que los numeros coincidan con formato hora \n",
    "    if int(elem[:2]) < 24:\n",
    "        h = elem[:2]\n",
    "    else:\n",
    "        h = \"00\"\n",
    "    # Se verifica que los numeros coincidan con formato minutos \n",
    "    if int(elem[-2:]) < 60:\n",
    "        min = elem[-2:]\n",
    "    else:\n",
    "        min = \"00\"\n",
    "    return h+\":\"+min\n",
    "    \n",
    "def conversion_dataTime(pdSerie):\n",
    "    hora = []\n",
    "    for elem in pdSerie:\n",
    "        if elem == \"?\":\n",
    "        # Se asigna las 0000 a cualquier hora desconocida \"?\"\n",
    "            hora.append(\"00:00\")\n",
    "        elif elem.isdigit(): \n",
    "        # Se verifica si son digitos que se puedan transformar a hora\n",
    "            hora.append(convertir_dig_en_hora(elem))      \n",
    "        else:\n",
    "        # Si no son puros digitos se verifica si se pueden sacar al menos 4 digitos\n",
    "            digitos = []\n",
    "            for digito in list(elem):\n",
    "                if digito.isdigit():\n",
    "                    digitos.append(digito)\n",
    "            if len(digitos) == 4:\n",
    "                hora.append(convertir_dig_en_hora(\"\".join(digitos)))\n",
    "            else:\n",
    "                hora.append(\"00:00\")\n",
    "    return hora\n",
    " \n",
    "df[\"hora\"] = conversion_dataTime(df['HORA declarada'])\n",
    "df.insert(0, 'date', df['fecha']+\" \"+df[\"hora\"])\n",
    "\n",
    "#LA fecha no tienen problema porque pd.to_datetime las reconce automaticamente\n",
    "df[\"date\"] = pd.to_datetime(df[\"date\"])\n",
    "\n",
    "df.drop(columns=['HORA declarada',\"fecha\",\"hora\"],inplace=True)\n"
   ]
  },
  {
   "cell_type": "code",
   "execution_count": 5,
   "metadata": {},
   "outputs": [],
   "source": [
    "#Codificamos el Operador\n",
    "from sklearn import preprocessing\n",
    "label_encoder = preprocessing.LabelEncoder()\n",
    "\n",
    "df['OperadOR'].replace('?',\"Desconocido\",inplace=True)\n",
    "\n",
    "df.insert(1, 'IdOperador', label_encoder.fit_transform(df['OperadOR']))\n",
    "\n",
    "#df['IdOperador'] = label_encoder.fit_transform(df['OperadOR'])\n",
    "df.rename(columns = {'OperadOR':'Operador'},inplace=True)\n",
    "\n",
    "\n",
    "#Se crea la tabla Operadores donde se almacenara informacion relativa a los operadores:\n",
    "Operadores =df.loc[:, ('IdOperador', 'Operador')]\n",
    "Operadores.drop_duplicates(inplace=True)\n",
    "Operadores.sort_values('IdOperador', ascending =True,inplace=True)\n",
    "Operadores.reset_index(inplace=True)\n",
    "Operadores.drop(columns=['index'],inplace=True)\n",
    "\n",
    "#Agregamos una coluna para indicar si el operador es militar \n",
    "val_buscar = ['Air Force','Military', 'Fuerza Aerea', 'Fuerza Area', 'Fuerza Aérea']\n",
    "Operadores[\"Militar\"] = Operadores[\"Operador\"].str.contains('|'.join(val_buscar) ,case = False,regex=True).astype('Int32') \n",
    "#Operadores.apply(lambda x: x[\"Militar\"]==1 ,axis=1).sum()\n",
    "#Operadores[\"Militar\"].value_counts()\n",
    "\n",
    "#Se elimina la columna del df\n",
    "df.drop(columns=['Operador'],inplace=True)"
   ]
  },
  {
   "cell_type": "code",
   "execution_count": 63,
   "metadata": {},
   "outputs": [
    {
     "data": {
      "text/plain": [
       "(697, 17)"
      ]
     },
     "execution_count": 63,
     "metadata": {},
     "output_type": "execute_result"
    }
   ],
   "source": [
    "#df2 = df[df['date'].dt.year > 2000]\n",
    "#df2.shape"
   ]
  },
  {
   "cell_type": "code",
   "execution_count": 8,
   "metadata": {},
   "outputs": [
    {
     "name": "stderr",
     "output_type": "stream",
     "text": [
      "PandasGUI INFO — pandasgui.gui — Opening PandasGUI\n"
     ]
    },
    {
     "name": "stdout",
     "output_type": "stream",
     "text": [
      "Completado: 100.0%\n"
     ]
    },
    {
     "data": {
      "text/plain": [
       "<pandasgui.gui.PandasGui at 0xb5adcd550>"
      ]
     },
     "execution_count": 8,
     "metadata": {},
     "output_type": "execute_result"
    }
   ],
   "source": [
    "#Codificamos la columna 'route' que es la ruta del vuelo \n",
    "\n",
    "#Se crearan las columnas Ruta_Pais_Origen, Ruta_ciudad_Origen,Ruta_Pais_Destino, Ruta_ciudad_Destino \n",
    "df['route'].replace('?',\"No_identificado\",inplace=True)\n",
    "\n",
    "#Para hacer la prueba se toma una muestra del dataset despues se cambia df2 por df\n",
    "df2 = df.sample(50)\n",
    "df2 = df2.reset_index()\n",
    "df2.drop(columns=['index'],inplace=True)\n",
    "\n",
    "#Se separan los valores de la columna 'route' que debe contener las ciudades ruta del vuelo\n",
    "separadores =['/','-',',']\n",
    "s2 = df2['route'].str.split(pat='|'.join(separadores),expand=True)\n",
    "\n",
    "#Opcion #1 usando geopy\n",
    "#El objetivo es, dado una lista de \"ciudades\" verificar si son todas del mismo pais, de ser asi\n",
    "# devolver un string con la lista de ciudades ordenadas de forma alfabetica indicando al final el pais con el codigo del mismo\n",
    "# de no pertenecer al mismo pais devolver una lista de los paises a los que pertenecen esas ciudades\n",
    "#  nota de tener un valor [\"Training\", \"Demonstration\",\"Air show\",\"Test flight\",\"No_identificado\"] devuelve \"No_identificado\"\n",
    "\n",
    "from IPython.display import clear_output\n",
    "from geopy.geocoders import Nominatim\n",
    "#import time\n",
    "#time.sleep(.5)     #Hay que darle tiempo a que responda sino da error siempre\n",
    "\n",
    "geolocator = Nominatim(user_agent = \"geoapiExercises\")\n",
    "\n",
    "def buscar_paises(Pdserie):\n",
    "    Pdserie = Pdserie.unique()\n",
    "    descarte = [\"Training\", \"Demonstration\",\"Air show\",\"Test flight\",\"No_identificado\"] \n",
    "    ciudades = []\n",
    "    paises = []\n",
    "    for ciudad in Pdserie:\n",
    "        if ciudad  and ciudad not in descarte:\n",
    "            ciudades.append(ciudad.strip())\n",
    "            try:\n",
    "                location = geolocator.geocode(ciudad)\n",
    "                location = geolocator.reverse(location.raw['lat']+\",\"+location.raw['lon'])\n",
    "                paises.append(location.raw['address']['country_code'])  #['country_code']\n",
    "            except:\n",
    "                pass\n",
    "    paises = list(set(paises))\n",
    "    if len(paises) > 1:\n",
    "        return \",\".join(paises), 1\n",
    "    elif len(paises) == 0:\n",
    "        return \"No_identificado\",2\n",
    "    else: \n",
    "        ciudades.sort()\n",
    "        return \",\".join(ciudades)+\"-\"+paises[0],0\n",
    "    \n",
    "\n",
    "resultado =[]\n",
    "JHO = 0\n",
    "JHO_max = s2.shape[0]\n",
    "for i in range(s2.shape[0]):\n",
    "    JHO = JHO + 1\n",
    "    clear_output(wait=True)\n",
    "    print('Completado: ' + str(round(JHO / JHO_max * 100, 2)) + '%')\n",
    "    resultado.append(buscar_paises(s2.iloc[i,:]))\n",
    "\n",
    "\n",
    "Vuelo_internacional = []\n",
    "Ruta_vuelo = []\n",
    "for i in range(len(resultado)):\n",
    "    Vuelo_internacional.append(resultado[i][1])\n",
    "    Ruta_vuelo.append(resultado[i][0])\n",
    "    \n",
    "df2.insert(2, 'Ruta_vuelo',Ruta_vuelo )\n",
    "df2.insert(3, 'Tipo_vuelo_Nac_Int',Vuelo_internacional )\n",
    "\n",
    "show(df2)\n"
   ]
  },
  {
   "cell_type": "code",
   "execution_count": 15,
   "metadata": {},
   "outputs": [
    {
     "data": {
      "text/html": [
       "<div>\n",
       "<style scoped>\n",
       "    .dataframe tbody tr th:only-of-type {\n",
       "        vertical-align: middle;\n",
       "    }\n",
       "\n",
       "    .dataframe tbody tr th {\n",
       "        vertical-align: top;\n",
       "    }\n",
       "\n",
       "    .dataframe thead th {\n",
       "        text-align: right;\n",
       "    }\n",
       "</style>\n",
       "<table border=\"1\" class=\"dataframe\">\n",
       "  <thead>\n",
       "    <tr style=\"text-align: right;\">\n",
       "      <th></th>\n",
       "      <th>0</th>\n",
       "      <th>1</th>\n",
       "      <th>2</th>\n",
       "      <th>3</th>\n",
       "    </tr>\n",
       "  </thead>\n",
       "  <tbody>\n",
       "    <tr>\n",
       "      <th>149</th>\n",
       "      <td>Florianopolis</td>\n",
       "      <td>Brazil\\rFlorianopolis</td>\n",
       "      <td>Brazil\\rFlorianopolis</td>\n",
       "      <td>Brazil</td>\n",
       "    </tr>\n",
       "    <tr>\n",
       "      <th>665</th>\n",
       "      <td>Near Cabo Ruivo</td>\n",
       "      <td>Marine Base</td>\n",
       "      <td>Lisbon</td>\n",
       "      <td>Portugal</td>\n",
       "    </tr>\n",
       "    <tr>\n",
       "      <th>1729</th>\n",
       "      <td>NAS Argentia</td>\n",
       "      <td>Placentia Bay</td>\n",
       "      <td>Newfoundland</td>\n",
       "      <td>Canada</td>\n",
       "    </tr>\n",
       "    <tr>\n",
       "      <th>1774</th>\n",
       "      <td>Near Varese</td>\n",
       "      <td>Lombardia</td>\n",
       "      <td>20 miles NW of Milan</td>\n",
       "      <td>Italy</td>\n",
       "    </tr>\n",
       "    <tr>\n",
       "      <th>2385</th>\n",
       "      <td>Gatwick Airport</td>\n",
       "      <td>Horley</td>\n",
       "      <td>Surrey</td>\n",
       "      <td>England</td>\n",
       "    </tr>\n",
       "    <tr>\n",
       "      <th>2617</th>\n",
       "      <td>London Heathrow</td>\n",
       "      <td>Staines</td>\n",
       "      <td>Surrey</td>\n",
       "      <td>England</td>\n",
       "    </tr>\n",
       "    <tr>\n",
       "      <th>2865</th>\n",
       "      <td>Moron AFB</td>\n",
       "      <td>Spain\\r\\t\\rMoron AFB</td>\n",
       "      <td>Spain\\r\\t\\rMoron AFB</td>\n",
       "      <td>Spain</td>\n",
       "    </tr>\n",
       "    <tr>\n",
       "      <th>3155</th>\n",
       "      <td>Mt. San Pietro</td>\n",
       "      <td>near Ajaccio</td>\n",
       "      <td>Corsica</td>\n",
       "      <td>France</td>\n",
       "    </tr>\n",
       "    <tr>\n",
       "      <th>3724</th>\n",
       "      <td>Djibouti City</td>\n",
       "      <td>Djibouti\\r\\tDjibouti City</td>\n",
       "      <td>Djibouti\\rDjibouti City</td>\n",
       "      <td>Djibouti</td>\n",
       "    </tr>\n",
       "    <tr>\n",
       "      <th>3734</th>\n",
       "      <td>Near Point Alert</td>\n",
       "      <td>Ellesmere Island</td>\n",
       "      <td>NWT</td>\n",
       "      <td>Canada</td>\n",
       "    </tr>\n",
       "    <tr>\n",
       "      <th>4866</th>\n",
       "      <td>Gaurikund</td>\n",
       "      <td>near Kedarnath</td>\n",
       "      <td>Uttarakhand State</td>\n",
       "      <td>India.</td>\n",
       "    </tr>\n",
       "  </tbody>\n",
       "</table>\n",
       "</div>"
      ],
      "text/plain": [
       "                     0                           1                         2  \\\n",
       "149      Florianopolis       Brazil\\rFlorianopolis     Brazil\\rFlorianopolis   \n",
       "665    Near Cabo Ruivo                 Marine Base                    Lisbon   \n",
       "1729      NAS Argentia               Placentia Bay              Newfoundland   \n",
       "1774       Near Varese                   Lombardia      20 miles NW of Milan   \n",
       "2385   Gatwick Airport                      Horley                    Surrey   \n",
       "2617   London Heathrow                     Staines                    Surrey   \n",
       "2865         Moron AFB        Spain\\r\\t\\rMoron AFB      Spain\\r\\t\\rMoron AFB   \n",
       "3155    Mt. San Pietro                near Ajaccio                   Corsica   \n",
       "3724     Djibouti City   Djibouti\\r\\tDjibouti City   Djibouti\\rDjibouti City   \n",
       "3734  Near Point Alert            Ellesmere Island                       NWT   \n",
       "4866         Gaurikund              near Kedarnath         Uttarakhand State   \n",
       "\n",
       "              3  \n",
       "149      Brazil  \n",
       "665    Portugal  \n",
       "1729     Canada  \n",
       "1774      Italy  \n",
       "2385    England  \n",
       "2617    England  \n",
       "2865      Spain  \n",
       "3155     France  \n",
       "3724   Djibouti  \n",
       "3734     Canada  \n",
       "4866     India.  "
      ]
     },
     "execution_count": 15,
     "metadata": {},
     "output_type": "execute_result"
    }
   ],
   "source": [
    "#Codificamos el lugar del accidente columna 'Ruta'\n",
    "\n",
    "df['Ruta'].replace('?',\"No_identificado\",inplace=True)\n",
    "\n",
    "r = df['Ruta'].str.split(pat=',',expand=True)\n",
    "\n",
    "#r.shape[1]\n",
    "r[r[r.shape[1]-1].notnull()]\n"
   ]
  },
  {
   "cell_type": "code",
   "execution_count": 16,
   "metadata": {},
   "outputs": [
    {
     "data": {
      "text/html": [
       "<div>\n",
       "<style scoped>\n",
       "    .dataframe tbody tr th:only-of-type {\n",
       "        vertical-align: middle;\n",
       "    }\n",
       "\n",
       "    .dataframe tbody tr th {\n",
       "        vertical-align: top;\n",
       "    }\n",
       "\n",
       "    .dataframe thead th {\n",
       "        text-align: right;\n",
       "    }\n",
       "</style>\n",
       "<table border=\"1\" class=\"dataframe\">\n",
       "  <thead>\n",
       "    <tr style=\"text-align: right;\">\n",
       "      <th></th>\n",
       "      <th>0</th>\n",
       "      <th>1</th>\n",
       "      <th>2</th>\n",
       "      <th>3</th>\n",
       "    </tr>\n",
       "  </thead>\n",
       "  <tbody>\n",
       "    <tr>\n",
       "      <th>0</th>\n",
       "      <td>Fort Myer</td>\n",
       "      <td>Virginia</td>\n",
       "      <td>None</td>\n",
       "      <td>None</td>\n",
       "    </tr>\n",
       "    <tr>\n",
       "      <th>1</th>\n",
       "      <td>Juvisy-sur-Orge</td>\n",
       "      <td>France</td>\n",
       "      <td>None</td>\n",
       "      <td>None</td>\n",
       "    </tr>\n",
       "    <tr>\n",
       "      <th>2</th>\n",
       "      <td>Atlantic City</td>\n",
       "      <td>New Jersey</td>\n",
       "      <td>None</td>\n",
       "      <td>None</td>\n",
       "    </tr>\n",
       "    <tr>\n",
       "      <th>3</th>\n",
       "      <td>Victoria</td>\n",
       "      <td>British Columbia</td>\n",
       "      <td>Canada</td>\n",
       "      <td>None</td>\n",
       "    </tr>\n",
       "    <tr>\n",
       "      <th>4</th>\n",
       "      <td>Over the North Sea</td>\n",
       "      <td>None</td>\n",
       "      <td>None</td>\n",
       "      <td>None</td>\n",
       "    </tr>\n",
       "    <tr>\n",
       "      <th>...</th>\n",
       "      <td>...</td>\n",
       "      <td>...</td>\n",
       "      <td>...</td>\n",
       "      <td>...</td>\n",
       "    </tr>\n",
       "    <tr>\n",
       "      <th>5003</th>\n",
       "      <td>Near Butte</td>\n",
       "      <td>Alaska</td>\n",
       "      <td>None</td>\n",
       "      <td>None</td>\n",
       "    </tr>\n",
       "    <tr>\n",
       "      <th>5004</th>\n",
       "      <td>Near Kaduna</td>\n",
       "      <td>Nigeria</td>\n",
       "      <td>None</td>\n",
       "      <td>None</td>\n",
       "    </tr>\n",
       "    <tr>\n",
       "      <th>5005</th>\n",
       "      <td>Near Pyin Oo Lwin</td>\n",
       "      <td>Myanmar</td>\n",
       "      <td>None</td>\n",
       "      <td>None</td>\n",
       "    </tr>\n",
       "    <tr>\n",
       "      <th>5006</th>\n",
       "      <td>Patikul</td>\n",
       "      <td>Sulu</td>\n",
       "      <td>Philippines</td>\n",
       "      <td>None</td>\n",
       "    </tr>\n",
       "    <tr>\n",
       "      <th>5007</th>\n",
       "      <td>Palana</td>\n",
       "      <td>Russia</td>\n",
       "      <td>None</td>\n",
       "      <td>None</td>\n",
       "    </tr>\n",
       "  </tbody>\n",
       "</table>\n",
       "<p>5008 rows × 4 columns</p>\n",
       "</div>"
      ],
      "text/plain": [
       "                       0                  1             2     3\n",
       "0              Fort Myer           Virginia          None  None\n",
       "1        Juvisy-sur-Orge             France          None  None\n",
       "2          Atlantic City         New Jersey          None  None\n",
       "3               Victoria   British Columbia        Canada  None\n",
       "4     Over the North Sea               None          None  None\n",
       "...                  ...                ...           ...   ...\n",
       "5003          Near Butte             Alaska          None  None\n",
       "5004         Near Kaduna            Nigeria          None  None\n",
       "5005   Near Pyin Oo Lwin            Myanmar          None  None\n",
       "5006             Patikul               Sulu   Philippines  None\n",
       "5007              Palana             Russia          None  None\n",
       "\n",
       "[5008 rows x 4 columns]"
      ]
     },
     "execution_count": 16,
     "metadata": {},
     "output_type": "execute_result"
    }
   ],
   "source": [
    "r"
   ]
  },
  {
   "cell_type": "code",
   "execution_count": 29,
   "metadata": {},
   "outputs": [
    {
     "data": {
      "text/plain": [
       "'Patikul'"
      ]
     },
     "execution_count": 29,
     "metadata": {},
     "output_type": "execute_result"
    }
   ],
   "source": [
    "i=5006\n",
    "r.iloc[i,0]"
   ]
  },
  {
   "cell_type": "code",
   "execution_count": 31,
   "metadata": {},
   "outputs": [
    {
     "data": {
      "text/plain": [
       "'Philippines'"
      ]
     },
     "execution_count": 31,
     "metadata": {},
     "output_type": "execute_result"
    }
   ],
   "source": [
    "from geopy.geocoders import Nominatim\n",
    "\n",
    "geolocator = Nominatim(user_agent = \"geoapiExercises\")\n",
    "location = geolocator.geocode(r.iloc[i,0])\n",
    "location = geolocator.reverse(location.raw['lat']+\",\"+location.raw['lon'])\n",
    "location.raw['address']['country']  #['country_code']"
   ]
  },
  {
   "cell_type": "code",
   "execution_count": 28,
   "metadata": {},
   "outputs": [
    {
     "data": {
      "text/html": [
       "<div>\n",
       "<style scoped>\n",
       "    .dataframe tbody tr th:only-of-type {\n",
       "        vertical-align: middle;\n",
       "    }\n",
       "\n",
       "    .dataframe tbody tr th {\n",
       "        vertical-align: top;\n",
       "    }\n",
       "\n",
       "    .dataframe thead th {\n",
       "        text-align: right;\n",
       "    }\n",
       "</style>\n",
       "<table border=\"1\" class=\"dataframe\">\n",
       "  <thead>\n",
       "    <tr style=\"text-align: right;\">\n",
       "      <th></th>\n",
       "      <th>Unnamed: 0</th>\n",
       "      <th>ID</th>\n",
       "      <th>CODIGO PAIS</th>\n",
       "      <th>CIUDAD</th>\n",
       "    </tr>\n",
       "  </thead>\n",
       "  <tbody>\n",
       "  </tbody>\n",
       "</table>\n",
       "</div>"
      ],
      "text/plain": [
       "Empty DataFrame\n",
       "Columns: [Unnamed: 0, ID, CODIGO PAIS, CIUDAD]\n",
       "Index: []"
      ]
     },
     "execution_count": 28,
     "metadata": {},
     "output_type": "execute_result"
    }
   ],
   "source": [
    "\n",
    "s1 = List_ciudades[\"CIUDAD\"]\n",
    "List_ciudades[s1.str.contains(r.iloc[i,0], flags=re.IGNORECASE, regex=True,na=False)]\n"
   ]
  },
  {
   "cell_type": "code",
   "execution_count": null,
   "metadata": {},
   "outputs": [],
   "source": [
    "\n",
    "import re\n",
    "val_buscar = ['PARROT','HOUSE']\n",
    "s1 = pd.Series(['Mouse', 'dog', 'house and parrot', '23','parrot','52F47', 0])\n",
    "s1.str.contains('|'.join(val_buscar), flags=re.IGNORECASE, regex=True,na=False)"
   ]
  },
  {
   "cell_type": "code",
   "execution_count": 13,
   "metadata": {},
   "outputs": [],
   "source": [
    "#Opcion 2, usando un listado de paises y ciudades\n",
    "# Obtenido de:\n",
    "# https://www.forosdelweb.com/f86/base-datos-paises-estados-ciudades-del-mundo-1157860/\n",
    "# https://docs.google.com/spreadsheets/d/1x-t5GdfxbeuO5GtfnX4BYbTC6XBRI8HgxUfHIclR8bw/edit#gid=565147435\n",
    "\n",
    "\n",
    "List_Paises = pd.read_csv('datos/PAISES.csv')\n",
    "List_ciudades = pd.read_csv('datos/CIUDADES DE PAISES.csv')\n"
   ]
  },
  {
   "cell_type": "code",
   "execution_count": 43,
   "metadata": {},
   "outputs": [
    {
     "data": {
      "text/html": [
       "<div>\n",
       "<style scoped>\n",
       "    .dataframe tbody tr th:only-of-type {\n",
       "        vertical-align: middle;\n",
       "    }\n",
       "\n",
       "    .dataframe tbody tr th {\n",
       "        vertical-align: top;\n",
       "    }\n",
       "\n",
       "    .dataframe thead th {\n",
       "        text-align: right;\n",
       "    }\n",
       "</style>\n",
       "<table border=\"1\" class=\"dataframe\">\n",
       "  <thead>\n",
       "    <tr style=\"text-align: right;\">\n",
       "      <th></th>\n",
       "      <th>Unnamed: 0</th>\n",
       "      <th>ID</th>\n",
       "      <th>CODIGO PAIS</th>\n",
       "      <th>CIUDAD</th>\n",
       "    </tr>\n",
       "  </thead>\n",
       "  <tbody>\n",
       "    <tr>\n",
       "      <th>132918</th>\n",
       "      <td>NaN</td>\n",
       "      <td>132919</td>\n",
       "      <td>VN</td>\n",
       "      <td>Lang Ha</td>\n",
       "    </tr>\n",
       "    <tr>\n",
       "      <th>86446</th>\n",
       "      <td>NaN</td>\n",
       "      <td>86447</td>\n",
       "      <td>US</td>\n",
       "      <td>East Orland</td>\n",
       "    </tr>\n",
       "    <tr>\n",
       "      <th>61787</th>\n",
       "      <td>NaN</td>\n",
       "      <td>61788</td>\n",
       "      <td>BE</td>\n",
       "      <td>Baasrode</td>\n",
       "    </tr>\n",
       "    <tr>\n",
       "      <th>2844</th>\n",
       "      <td>NaN</td>\n",
       "      <td>2845</td>\n",
       "      <td>US</td>\n",
       "      <td>Kiowa</td>\n",
       "    </tr>\n",
       "    <tr>\n",
       "      <th>659</th>\n",
       "      <td>NaN</td>\n",
       "      <td>660</td>\n",
       "      <td>US</td>\n",
       "      <td>Highland</td>\n",
       "    </tr>\n",
       "  </tbody>\n",
       "</table>\n",
       "</div>"
      ],
      "text/plain": [
       "        Unnamed: 0      ID CODIGO PAIS       CIUDAD\n",
       "132918         NaN  132919          VN      Lang Ha\n",
       "86446          NaN   86447          US  East Orland\n",
       "61787          NaN   61788          BE     Baasrode\n",
       "2844           NaN    2845          US        Kiowa\n",
       "659            NaN     660          US     Highland"
      ]
     },
     "execution_count": 43,
     "metadata": {},
     "output_type": "execute_result"
    }
   ],
   "source": [
    "List_ciudades.sample(5)"
   ]
  },
  {
   "cell_type": "code",
   "execution_count": null,
   "metadata": {},
   "outputs": [],
   "source": []
  },
  {
   "cell_type": "code",
   "execution_count": 44,
   "metadata": {},
   "outputs": [
    {
     "data": {
      "text/html": [
       "<div>\n",
       "<style scoped>\n",
       "    .dataframe tbody tr th:only-of-type {\n",
       "        vertical-align: middle;\n",
       "    }\n",
       "\n",
       "    .dataframe tbody tr th {\n",
       "        vertical-align: top;\n",
       "    }\n",
       "\n",
       "    .dataframe thead th {\n",
       "        text-align: right;\n",
       "    }\n",
       "</style>\n",
       "<table border=\"1\" class=\"dataframe\">\n",
       "  <thead>\n",
       "    <tr style=\"text-align: right;\">\n",
       "      <th></th>\n",
       "      <th>Unnamed: 0</th>\n",
       "      <th>ID</th>\n",
       "      <th>CODIGO PAIS</th>\n",
       "      <th>CIUDAD</th>\n",
       "    </tr>\n",
       "  </thead>\n",
       "  <tbody>\n",
       "    <tr>\n",
       "      <th>80098</th>\n",
       "      <td>NaN</td>\n",
       "      <td>80099</td>\n",
       "      <td>US</td>\n",
       "      <td>Corsica</td>\n",
       "    </tr>\n",
       "  </tbody>\n",
       "</table>\n",
       "</div>"
      ],
      "text/plain": [
       "       Unnamed: 0     ID CODIGO PAIS   CIUDAD\n",
       "80098         NaN  80099          US  Corsica"
      ]
     },
     "execution_count": 44,
     "metadata": {},
     "output_type": "execute_result"
    }
   ],
   "source": [
    "List_ciudades[List_ciudades[\"CIUDAD\"] == 'Corsica']\n"
   ]
  },
  {
   "cell_type": "code",
   "execution_count": 70,
   "metadata": {},
   "outputs": [],
   "source": [
    "s3 = s2[0].str.split(pat=\"-\",expand=True)"
   ]
  },
  {
   "cell_type": "code",
   "execution_count": 64,
   "metadata": {},
   "outputs": [
    {
     "data": {
      "text/html": [
       "<div>\n",
       "<style scoped>\n",
       "    .dataframe tbody tr th:only-of-type {\n",
       "        vertical-align: middle;\n",
       "    }\n",
       "\n",
       "    .dataframe tbody tr th {\n",
       "        vertical-align: top;\n",
       "    }\n",
       "\n",
       "    .dataframe thead th {\n",
       "        text-align: right;\n",
       "    }\n",
       "</style>\n",
       "<table border=\"1\" class=\"dataframe\">\n",
       "  <thead>\n",
       "    <tr style=\"text-align: right;\">\n",
       "      <th></th>\n",
       "      <th>0</th>\n",
       "      <th>1</th>\n",
       "      <th>2</th>\n",
       "    </tr>\n",
       "  </thead>\n",
       "  <tbody>\n",
       "    <tr>\n",
       "      <th>4397</th>\n",
       "      <td>Moscow-Munich-Barcelona</td>\n",
       "      <td>Bahrain</td>\n",
       "      <td>Brussels</td>\n",
       "    </tr>\n",
       "  </tbody>\n",
       "</table>\n",
       "</div>"
      ],
      "text/plain": [
       "                             0         1         2\n",
       "4397  Moscow-Munich-Barcelona    Bahrain  Brussels"
      ]
     },
     "execution_count": 64,
     "metadata": {},
     "output_type": "execute_result"
    }
   ],
   "source": [
    "#s2[s2[2].isna()]\n",
    "s2[s2[2].notnull()]"
   ]
  },
  {
   "cell_type": "code",
   "execution_count": 18,
   "metadata": {},
   "outputs": [
    {
     "data": {
      "text/plain": [
       "0"
      ]
     },
     "execution_count": 18,
     "metadata": {},
     "output_type": "execute_result"
    }
   ],
   "source": [
    "df2.apply(lambda x: x[\"OperadOR\"] == '?', axis=1).sum()"
   ]
  },
  {
   "cell_type": "code",
   "execution_count": 20,
   "metadata": {},
   "outputs": [
    {
     "data": {
      "text/plain": [
       "5"
      ]
     },
     "execution_count": 20,
     "metadata": {},
     "output_type": "execute_result"
    }
   ],
   "source": [
    "df.apply(lambda x: x['Ruta'] == '?', axis=1).sum()"
   ]
  },
  {
   "cell_type": "markdown",
   "metadata": {},
   "source": [
    "cn_ln\n",
    "Construction or serial number / Line or fuselage number"
   ]
  },
  {
   "cell_type": "code",
   "execution_count": 15,
   "metadata": {},
   "outputs": [
    {
     "data": {
      "text/plain": [
       "10"
      ]
     },
     "execution_count": 15,
     "metadata": {},
     "output_type": "execute_result"
    }
   ],
   "source": [
    "df.apply(lambda x: x[\"OperadOR\"] == '?', axis=1).sum()"
   ]
  },
  {
   "cell_type": "code",
   "execution_count": null,
   "metadata": {},
   "outputs": [],
   "source": [
    "#Para obtener info de la ultima columna\n",
    "\n",
    "import re\n",
    "val_buscar = ['PARROT','HOUSE']\n",
    "s1 = pd.Series(['Mouse', 'dog', 'house and parrot', '23','parrot','52F47', 0])\n",
    "s1.str.contains('|'.join(val_buscar), flags=re.IGNORECASE, regex=True,na=False)\n",
    "\n",
    "\n",
    "a_string = \"A string is more than its parts!\"\n",
    "matches = [\"more\", \"string\"]\n",
    "if all(x in a_string for x in matches):\n",
    "    print(\"Si estan todos\")\n",
    "\n",
    "a_string = \"A string is more than its parts!\"\n",
    "matches = [\"more\", \"wholesome\", \"milk\"]\n",
    "if any(x in a_string for x in matches):\n",
    "    print(\"Si esta alguno\")"
   ]
  },
  {
   "cell_type": "code",
   "execution_count": 11,
   "metadata": {},
   "outputs": [
    {
     "data": {
      "text/plain": [
       "0    False\n",
       "1    False\n",
       "2     True\n",
       "3    False\n",
       "4     True\n",
       "5    False\n",
       "6    False\n",
       "dtype: bool"
      ]
     },
     "execution_count": 11,
     "metadata": {},
     "output_type": "execute_result"
    }
   ],
   "source": [
    "import re\n",
    "val_buscar = ['PARROT','HOUSE']\n",
    "s1 = pd.Series(['Mouse', 'dog', 'house and parrot', '23','parrot','52F47', 0])\n",
    "s1.str.contains('|'.join(val_buscar), flags=re.IGNORECASE, regex=True,na=False)"
   ]
  },
  {
   "cell_type": "markdown",
   "metadata": {},
   "source": [
    "#Obtencion de mas informacion\n",
    "\n",
    "#Procedimiento de : https://www.youtube.com/watch?v=fOR4bLgR00I\n",
    "Web Scraping - Extracción de datos web con Python 1\n"
   ]
  },
  {
   "cell_type": "code",
   "execution_count": 9,
   "metadata": {},
   "outputs": [
    {
     "ename": "ModuleNotFoundError",
     "evalue": "No module named 'requests'",
     "output_type": "error",
     "traceback": [
      "\u001b[1;31m---------------------------------------------------------------------------\u001b[0m",
      "\u001b[1;31mModuleNotFoundError\u001b[0m                       Traceback (most recent call last)",
      "Cell \u001b[1;32mIn [9], line 1\u001b[0m\n\u001b[1;32m----> 1\u001b[0m \u001b[39mimport\u001b[39;00m \u001b[39mrequests\u001b[39;00m\n\u001b[0;32m      2\u001b[0m \u001b[39mfrom\u001b[39;00m \u001b[39mbs4\u001b[39;00m \u001b[39mimport\u001b[39;00m BeautifulSoup \u001b[39mas\u001b[39;00m b \n\u001b[0;32m      3\u001b[0m url \u001b[39m=\u001b[39m \u001b[39m\"\u001b[39m\u001b[39mhttps://aviation-safety.net/statistics/period/stats.php\u001b[39m\u001b[39m\"\u001b[39m\n",
      "\u001b[1;31mModuleNotFoundError\u001b[0m: No module named 'requests'"
     ]
    }
   ],
   "source": [
    "import requests\n",
    "from bs4 import BeautifulSoup as b \n",
    "url = \"https://aviation-safety.net/statistics/period/stats.php\"\n",
    "#url = \"https://www.mercadolibre.com.mx/\"\n",
    "#url = \"https://articulo.mercadolibre.com.mx/MLM-1386825775-inversor-de-corriente-coche-12v-a-110v-150w-1-ac-y-2-_JM#reco_item_pos=3&reco_backend=machinalis-homes-pdp-boos&reco_backend_type=function&reco_client=home_second-best-navigation-trend-recommendations&reco_id=fbbd5122-74d9-490e-b15a-d18b3637d43e&c_id=/home/second-best-navigation-trends-recommendations/element&c_element_order=4&c_uid=4d8503ef-e075-49ab-b1e6-f3052d2e6cf4\"\n",
    "#url = \"https://articulo.mercadolibre.com.mx/MLM-929342413-maquina-de-pasta-para-batidora-de-soporte-kitchenaid-_JM?variation=87326131747#reco_item_pos=1&reco_backend=machinalis-homes-pdp-boos&reco_backend_type=function&reco_client=home_navigation-trend-recommendations&reco_id=6d8fea94-ae8d-4821-8094-2ebb00ee08d7&c_id=/home/navigation-trends-recommendations/element&c_element_order=2&c_uid=e1a5d46a-ae89-443a-957d-45a3e8e5a156\"\n",
    "\n",
    "html =requests.get(url)\n",
    "content = html.content \n",
    "soup = b(content,\"lxml\")\n",
    "print(soup)\n",
    "\n"
   ]
  },
  {
   "cell_type": "code",
   "execution_count": null,
   "metadata": {},
   "outputs": [],
   "source": [
    "titulo1 = soup.find(\"h1\",{\"class\":\"ui-pdp-title\"})\n",
    "print(titulo1.text)\n",
    "moneda1 = soup.find(\"span\",{\"class\":\"andes-money-amount__currency-symbol\"})\n",
    "precio1 = soup.find(\"span\",{\"class\":\"andes-money-amount__fraction\"})\n",
    "print(moneda1.text,precio1.text)\n",
    "descuento = soup.find(\"span\",{\"class\":\"ui-pdp-price__second-line__label ui-pdp-color--GREEN ui-pdp-size--MEDIUM\"})\n",
    "print(\"Descuento %\",descuento.text)"
   ]
  }
 ],
 "metadata": {
  "kernelspec": {
   "display_name": "Python 3.9.8 64-bit",
   "language": "python",
   "name": "python3"
  },
  "language_info": {
   "codemirror_mode": {
    "name": "ipython",
    "version": 3
   },
   "file_extension": ".py",
   "mimetype": "text/x-python",
   "name": "python",
   "nbconvert_exporter": "python",
   "pygments_lexer": "ipython3",
   "version": "3.9.8"
  },
  "orig_nbformat": 4,
  "vscode": {
   "interpreter": {
    "hash": "78a5f5e9430e63759269e8e709c4002b1ad533978ca32d2fcf985e534411cec9"
   }
  }
 },
 "nbformat": 4,
 "nbformat_minor": 2
}
